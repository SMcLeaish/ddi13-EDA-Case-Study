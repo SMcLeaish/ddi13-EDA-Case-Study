{
 "cells": [
  {
   "cell_type": "code",
   "execution_count": null,
   "id": "7b808376",
   "metadata": {},
   "outputs": [],
   "source": [
    "import pandas as pd\n",
    "import numpy as np\n",
    "import matplotlib as plt\n",
    "import seaborn as sns\n",
    "import geopandas \n",
    "from shapely import wkt\n",
    "import folium\n",
    "import geodatasets"
   ]
  },
  {
   "cell_type": "code",
   "execution_count": null,
   "id": "bd8412d2",
   "metadata": {},
   "outputs": [],
   "source": [
    "cities = pd.read_csv('data/cities.csv')"
   ]
  },
  {
   "cell_type": "code",
   "execution_count": null,
   "id": "e350d726",
   "metadata": {},
   "outputs": [],
   "source": [
    "cities\n",
    "cities['Coordinates'] = geopandas.GeoSeries.from_wkt(cities['coords'])\n",
    "gdf = geopandas.GeoDataFrame(cities, geometry='Coordinates')"
   ]
  },
  {
   "cell_type": "code",
   "execution_count": null,
   "id": "cc349610",
   "metadata": {},
   "outputs": [],
   "source": [
    "gdf = gdf.set_crs(\"EPSG:4326\")\n",
    "m = folium.Map(location=[40.70, -73.94], zoom_start=10, tiles=\"CartoDB positron\")\n",
    "\n",
    "for _, r in gdf.iterrows():\n",
    "    lat =r[\"Coordinates\"].y\n",
    "    lon = r['Coordinates'].x\n",
    "    folium.Marker(\n",
    "        location=[lat, lon],\n",
    "    ).add_to(m)"
   ]
  },
  {
   "cell_type": "code",
   "execution_count": null,
   "id": "d5048622",
   "metadata": {},
   "outputs": [],
   "source": [
    "m.save('Images/map.html')"
   ]
  },
  {
   "cell_type": "code",
   "execution_count": null,
   "id": "2778fee0",
   "metadata": {},
   "outputs": [],
   "source": [
    "lines = pd.read_csv('data/lines.csv')"
   ]
  },
  {
   "cell_type": "code",
   "execution_count": null,
   "id": "addd32f3",
   "metadata": {},
   "outputs": [],
   "source": [
    "lines = lines.rename(columns={'name': 'line_name'})"
   ]
  },
  {
   "cell_type": "code",
   "execution_count": null,
   "id": "9de47ff6",
   "metadata": {},
   "outputs": [],
   "source": [
    "lst = ['data/station_lines.csv', 'data/stations.csv', 'data/systems.csv', 'data/track_lines.csv', 'data/tracks.csv']\n",
    "station_lines = pd.read_csv(lst[0])\n",
    "stations = pd.read_csv(lst[1])\n",
    "systems = pd.read_csv(lst[2])\n",
    "track_lines = pd.read_csv(lst[3])\n",
    "tracks = pd.read_csv(lst[4])"
   ]
  },
  {
   "cell_type": "code",
   "execution_count": null,
   "id": "b4f5ce0a",
   "metadata": {},
   "outputs": [],
   "source": [
    "tracks"
   ]
  },
  {
   "cell_type": "code",
   "execution_count": null,
   "id": "5569efe8",
   "metadata": {},
   "outputs": [],
   "source": [
    "lines_drop = lines.copy()\n",
    "lines_drop = lines_drop.drop(columns=['url_name', 'color', 'transport_mode_id'])"
   ]
  },
  {
   "cell_type": "code",
   "execution_count": null,
   "id": "9cfa1b5a",
   "metadata": {},
   "outputs": [],
   "source": [
    "lines_drop"
   ]
  },
  {
   "cell_type": "code",
   "execution_count": null,
   "id": "1b32d1d4",
   "metadata": {},
   "outputs": [],
   "source": [
    "cities"
   ]
  },
  {
   "cell_type": "code",
   "execution_count": null,
   "id": "d109f62d",
   "metadata": {},
   "outputs": [],
   "source": [
    "cities_drop = cities.copy()\n",
    "cities_drop = cities_drop.drop(columns='url_name')\n",
    "cities_usa = cities_drop[cities_drop['country'] == \"United States\"]"
   ]
  },
  {
   "cell_type": "code",
   "execution_count": null,
   "id": "ff8acb2a",
   "metadata": {},
   "outputs": [],
   "source": [
    "cities_lines = lines_drop.merge(cities_usa, left_on='city_id', right_on='id', how='left')"
   ]
  },
  {
   "cell_type": "code",
   "execution_count": null,
   "id": "325e0f75",
   "metadata": {},
   "outputs": [],
   "source": [
    "cities_lines"
   ]
  },
  {
   "cell_type": "code",
   "execution_count": null,
   "id": "2ba52c53",
   "metadata": {},
   "outputs": [],
   "source": [
    "cities_lines = cities_lines.rename(columns={'name':'city', 'city_id': 'id'}).dropna(subset='city')"
   ]
  },
  {
   "cell_type": "code",
   "execution_count": null,
   "id": "5788999e",
   "metadata": {},
   "outputs": [],
   "source": [
    "cities_lines"
   ]
  },
  {
   "cell_type": "code",
   "execution_count": null,
   "id": "f7a0e1ea",
   "metadata": {},
   "outputs": [],
   "source": [
    "cities_stations = stations.merge(cities_usa, left_on='city_id', right_on='id', how='left')\n",
    "cities_stations = cities_stations.rename(columns={'name_y':'city', 'city_id':'id'}).dropna(subset='city')\n",
    "cities_stations = cities_stations[cities_stations['buildstart']> 0]\n",
    "cities_stations['buildstart'] = cities_stations['buildstart'].astype(int)"
   ]
  },
  {
   "cell_type": "code",
   "execution_count": null,
   "id": "2515f64d",
   "metadata": {},
   "outputs": [],
   "source": [
    "cities_stations['city'].value_counts().plot.bar()"
   ]
  },
  {
   "cell_type": "code",
   "execution_count": null,
   "id": "1dbfa21f",
   "metadata": {},
   "outputs": [],
   "source": [
    "#cities_stations = cities_stations[(cities_stations['city'] != 'Chicago') & (cities_stations['city'] != 'Los Angeles')]"
   ]
  },
  {
   "cell_type": "code",
   "execution_count": null,
   "id": "68db1724",
   "metadata": {},
   "outputs": [],
   "source": [
    "cities_stations"
   ]
  },
  {
   "cell_type": "code",
   "execution_count": null,
   "id": "1cc9df5d",
   "metadata": {},
   "outputs": [],
   "source": [
    "def cityplot():\n",
    "    for city in cities_stations['city'].unique():\n",
    "        print(city)\n",
    "        ax = cities_stations[cities_stations['city'] == city].groupby('buildstart').size().cumsum().plot(\n",
    "        x='buildstart', y='0', xlabel='Year', ylabel='Total Stations')\n",
    "    return ax\n",
    "ax = cityplot()\n",
    "ax.set_title('Urban Rail Infrastructure in The United States')\n",
    "ax.legend(cities_stations['city'].unique())\n",
    "ax.plot()"
   ]
  },
  {
   "cell_type": "code",
   "execution_count": null,
   "id": "e439621a",
   "metadata": {},
   "outputs": [],
   "source": [
    "cities_stations['buildstart'].plot.hist(ylabel='Number of Stations Built', xlabel='Year').set_title('Stations Built in the United States')"
   ]
  },
  {
   "cell_type": "code",
   "execution_count": null,
   "id": "15b44aeb",
   "metadata": {},
   "outputs": [],
   "source": [
    "ax = sns.histplot(data=cities_stations, x='buildstart', hue='city')\n",
    "ax.set_xlabel('Year')\n",
    "ax.set_ylabel('Number of Stations Built')\n",
    "fig = ax.get_figure()\n",
    "fig.set_figheight(8)\n",
    "fig.set_figwidth(8)"
   ]
  },
  {
   "cell_type": "code",
   "execution_count": null,
   "id": "6e07e7b4",
   "metadata": {},
   "outputs": [],
   "source": []
  },
  {
   "cell_type": "code",
   "execution_count": null,
   "id": "059a22b3",
   "metadata": {},
   "outputs": [],
   "source": [
    "cities_lines"
   ]
  },
  {
   "cell_type": "code",
   "execution_count": null,
   "id": "cdf6b3f9",
   "metadata": {},
   "outputs": [],
   "source": [
    "cities_lines = cities_lines.drop(columns=['id_x', 'id_y', 'system_id'])"
   ]
  },
  {
   "cell_type": "code",
   "execution_count": null,
   "id": "47cd12be",
   "metadata": {},
   "outputs": [],
   "source": [
    "cities_lines_stations = stations.merge(cities_lines, left_on='city_id', right_on='id', how='left')"
   ]
  },
  {
   "cell_type": "code",
   "execution_count": null,
   "id": "35202eb4",
   "metadata": {},
   "outputs": [],
   "source": [
    "cities_lines_stations = cities_lines_stations.dropna(subset='city')"
   ]
  },
  {
   "cell_type": "code",
   "execution_count": null,
   "id": "ef8e9708",
   "metadata": {},
   "outputs": [],
   "source": [
    "cities_lines_stations.sort_values(by='city_id')"
   ]
  },
  {
   "cell_type": "code",
   "execution_count": null,
   "id": "63efa3a2",
   "metadata": {},
   "outputs": [],
   "source": [
    "cls = cities_stations.rename(columns={'Coordinates': 'City Coordinates'})"
   ]
  },
  {
   "cell_type": "code",
   "execution_count": null,
   "id": "7da01b2b",
   "metadata": {},
   "outputs": [],
   "source": [
    "cls['Station Coordinates'] = geopandas.GeoSeries.from_wkt(cls['geometry'])\n",
    "gdf = geopandas.GeoDataFrame(cls, geometry='Station Coordinates')"
   ]
  },
  {
   "cell_type": "code",
   "execution_count": null,
   "id": "b49bf123",
   "metadata": {},
   "outputs": [],
   "source": [
    "tracks['geometry'] = tracks['geometry'].apply(wkt.loads)"
   ]
  },
  {
   "cell_type": "code",
   "execution_count": null,
   "id": "f0c39848",
   "metadata": {},
   "outputs": [],
   "source": [
    "#tracks['tracks_coords'] = geopandas.GeoSeries.from_wkt(cls['geometry'])"
   ]
  },
  {
   "cell_type": "code",
   "execution_count": null,
   "id": "90a891f8",
   "metadata": {},
   "outputs": [],
   "source": [
    "#tracks = tracks.drop(columns='tracks_coords')\n"
   ]
  },
  {
   "cell_type": "code",
   "execution_count": null,
   "id": "7fda4bc9",
   "metadata": {},
   "outputs": [],
   "source": [
    "tracks_gdf = geopandas.GeoDataFrame(tracks)"
   ]
  },
  {
   "cell_type": "code",
   "execution_count": null,
   "id": "4b404ff9",
   "metadata": {},
   "outputs": [],
   "source": [
    "tracks_gdf= tracks_gdf.set_crs(\"EPSG:4326\")"
   ]
  },
  {
   "cell_type": "code",
   "execution_count": null,
   "id": "4c1091e8",
   "metadata": {},
   "outputs": [],
   "source": [
    "tracks_gdf"
   ]
  },
  {
   "cell_type": "code",
   "execution_count": null,
   "id": "f2b9f22d",
   "metadata": {},
   "outputs": [],
   "source": [
    "def build_map(gdf, column):\n",
    "    gdf = gdf.set_crs(\"EPSG:4326\")\n",
    "    m = folium.Map(location=[40.70, -73.94], zoom_start=10, tiles=\"CartoDB positron\")\n",
    "\n",
    "    for _, r in gdf.iterrows():\n",
    "        lat = r[column].y\n",
    "        lon = r[column].x\n",
    "        folium.Marker(\n",
    "            location=[lat, lon],\n",
    "        ).add_to(m)\n",
    "   "
   ]
  },
  {
   "cell_type": "code",
   "execution_count": null,
   "id": "d8909d1b",
   "metadata": {},
   "outputs": [],
   "source": [
    "def add_lines(gdf, column)\n",
    "    gdf = gdf.set_crs('EPSG:4326')\n",
    "    "
   ]
  },
  {
   "cell_type": "code",
   "execution_count": null,
   "id": "6019bbce",
   "metadata": {},
   "outputs": [],
   "source": [
    "build_map(gdf, 'City Coordinates')\n",
    "build_map(gdf, 'Station Coordinates')\n",
    "build_map(tracks_gdf, 'geometry')"
   ]
  },
  {
   "cell_type": "code",
   "execution_count": null,
   "id": "6543e9cc",
   "metadata": {},
   "outputs": [],
   "source": [
    "m.save('Images/map.html')"
   ]
  },
  {
   "cell_type": "code",
   "execution_count": null,
   "id": "c50c1b79",
   "metadata": {},
   "outputs": [],
   "source": [
    "cities_id = cities_usa.rename(columns={'id':'city_id'})"
   ]
  },
  {
   "cell_type": "code",
   "execution_count": null,
   "id": "e91ce104",
   "metadata": {},
   "outputs": [],
   "source": []
  },
  {
   "cell_type": "code",
   "execution_count": null,
   "id": "d0f3e976",
   "metadata": {},
   "outputs": [],
   "source": [
    "cities_line = lines_drop.merge(citi)"
   ]
  },
  {
   "cell_type": "code",
   "execution_count": null,
   "id": "43695754",
   "metadata": {},
   "outputs": [],
   "source": [
    "cities_line"
   ]
  },
  {
   "cell_type": "code",
   "execution_count": null,
   "id": "1471d55e",
   "metadata": {},
   "outputs": [],
   "source": [
    "stations"
   ]
  },
  {
   "cell_type": "code",
   "execution_count": null,
   "id": "c2be74f9",
   "metadata": {},
   "outputs": [],
   "source": [
    "stations_drop = stations.copy()\n",
    "#stations_usa = stations_drop[stations_drop['country'] == \"United States\"]\n",
    "#stations_drop['cities'] = stations_drop[[stations_drop['city_id']== 147]] = 'Chicago'\n",
    "stations_drop = stations_drop.dropna(subset='buildstart')\n",
    "stations_drop = stations_drop[stations_drop['buildstart'] == 0] = np.nan"
   ]
  },
  {
   "cell_type": "code",
   "execution_count": null,
   "id": "59657e76",
   "metadata": {},
   "outputs": [],
   "source": [
    "stations_drop"
   ]
  },
  {
   "cell_type": "code",
   "execution_count": null,
   "id": "badae243",
   "metadata": {},
   "outputs": [],
   "source": []
  }
 ],
 "metadata": {
  "kernelspec": {
   "display_name": "Python (myenv)",
   "language": "python",
   "name": "myenv"
  },
  "language_info": {
   "codemirror_mode": {
    "name": "ipython",
    "version": 3
   },
   "file_extension": ".py",
   "mimetype": "text/x-python",
   "name": "python",
   "nbconvert_exporter": "python",
   "pygments_lexer": "ipython3",
   "version": "3.13.7"
  }
 },
 "nbformat": 4,
 "nbformat_minor": 5
}
